{
 "cells": [
  {
   "cell_type": "code",
   "execution_count": 63,
   "metadata": {
    "collapsed": false
   },
   "outputs": [],
   "source": [
    "import os\n",
    "import numpy as np\n",
    "import pandas as pd\n",
    "from pandas import DataFrame, Series\n",
    "import scipy\n",
    "from moss import glm\n",
    "import matplotlib.pyplot as plt\n",
    "import nibabel as nib\n",
    "%matplotlib inline"
   ]
  },
  {
   "cell_type": "code",
   "execution_count": 268,
   "metadata": {
    "collapsed": true
   },
   "outputs": [],
   "source": [
    "start_offset = 12 #saturation time\n",
    "tr = 2\n",
    "green_dot_time = 2 #time before choice is presented\n",
    "decision_duration = 3 #including feedback\n",
    "n_best_models = 6 #number of models to keep\n",
    "ntrials = 24\n",
    "nmodels = 1000 #number of models to make\n",
    "\n",
    "#iti params\n",
    "mean_iti = 7\n",
    "min_iti = 3 #min 1 plus 2 seconds for green dot\n",
    "max_iti = 14\n",
    "\n",
    "#isi params (between choice and response cue)\n",
    "mean_isi = 6\n",
    "min_isi = 4\n",
    "max_isi = 14"
   ]
  },
  {
   "cell_type": "code",
   "execution_count": 270,
   "metadata": {
    "collapsed": false
   },
   "outputs": [],
   "source": [
    "def get_isi(mean_isi, min_isi, max_isi, ntrials):\n",
    "    isis = np.random.poisson(lam = mean_isi, size=ntrials*5)\n",
    "    isis = [x for x in isis if x <= max_isi and x >= min_isi]\n",
    "    return np.array(isis[0:ntrials])"
   ]
  },
  {
   "cell_type": "code",
   "execution_count": 311,
   "metadata": {
    "collapsed": false
   },
   "outputs": [],
   "source": [
    "def get_efficiency(contrast = None):\n",
    "    #set up experimental timing\n",
    "    isi = get_isi(mean_isi, min_isi, max_isi, ntrials)\n",
    "    iti = get_isi(mean_iti,min_iti, max_iti, ntrials)\n",
    "\n",
    "    choice_times = []\n",
    "    decision_times = []\n",
    "    for i in range(ntrials):\n",
    "        if i == 0:\n",
    "            choice_times.append(start_offset)\n",
    "        else:\n",
    "            choice_times.append(decision_times[-1] + decision_duration + iti[i])\n",
    "\n",
    "        decision_times.append(choice_times[-1] + isi[i])\n",
    "\n",
    "    #build design\n",
    "    design = pd.DataFrame({'condition':['choice']*ntrials + ['decision']*ntrials,\n",
    "                      'onset': choice_times + decision_times,\n",
    "                      'duration': [0]*ntrials + [3]*ntrials,\n",
    "                     })\n",
    "\n",
    "    #convolve \n",
    "    hrf = glm.GammaDifferenceHRF()\n",
    "    ntp = (decision_times[-1] + 12)/2\n",
    "    model = glm.DesignMatrix(design = design, tr = tr, ntp = ntp, hrf_model = hrf, hpf_cutoff = 128)\n",
    "    X = model.design_matrix.values\n",
    "    \n",
    "    #get efficiency\n",
    "    XX = np.linalg.inv((X.T).dot(X))\n",
    "    if contrast is None:\n",
    "        eff = 1 / np.trace(XX)\n",
    "    else:\n",
    "        contrast = np.array(contrast)\n",
    "        c = contrast.dot(XX).dot(contrast.T)\n",
    "        eff = 1 / c\n",
    "        \n",
    "    return design,np.log(eff)"
   ]
  },
  {
   "cell_type": "code",
   "execution_count": 312,
   "metadata": {
    "collapsed": false
   },
   "outputs": [],
   "source": [
    "#enumerate lots of models\n",
    "model_list = []\n",
    "for i in range(nmodels):\n",
    "    model_list.append(get_efficiency([1,0]))"
   ]
  },
  {
   "cell_type": "code",
   "execution_count": 297,
   "metadata": {
    "collapsed": false
   },
   "outputs": [],
   "source": [
    "model_list.sort(key=lambda x: x[1],reverse=True) #sort"
   ]
  },
  {
   "cell_type": "code",
   "execution_count": 313,
   "metadata": {
    "collapsed": false
   },
   "outputs": [
    {
     "data": {
      "text/plain": [
       "(array([   8.,   31.,   74.,  152.,  244.,  254.,  143.,   77.,   13.,    4.]),\n",
       " array([-4.68878919, -4.63822992, -4.58767065, -4.53711139, -4.48655212,\n",
       "        -4.43599285, -4.38543359, -4.33487432, -4.28431505, -4.23375579,\n",
       "        -4.18319652]),\n",
       " <a list of 10 Patch objects>)"
      ]
     },
     "execution_count": 313,
     "metadata": {},
     "output_type": "execute_result"
    },
    {
     "data": {
      "image/png": "[encoded data removed]",
      "text/plain": [
       "<matplotlib.figure.Figure at 0x119c790d0>"
      ]
     },
     "metadata": {},
     "output_type": "display_data"
    }
   ],
   "source": [
    "#plot efficiencies\n",
    "effs = [x[1] for x in model_list]\n",
    "plt.hist(effs)"
   ]
  },
  {
   "cell_type": "code",
   "execution_count": 314,
   "metadata": {
    "collapsed": false
   },
   "outputs": [],
   "source": [
    "#save top models\n",
    "for i in range(n_best_models):\n",
    "    out_f = os.path.abspath('timing/run' + str(i) + '.csv')\n",
    "    model = model_list[i][0]\n",
    "    model.to_csv(out_f,index = False)"
   ]
  },
  {
   "cell_type": "code",
   "execution_count": null,
   "metadata": {
    "collapsed": true
   },
   "outputs": [],
   "source": []
  }
 ],
 "metadata": {
  "kernelspec": {
   "display_name": "Python 2",
   "language": "python",
   "name": "python2"
  },
  "language_info": {
   "codemirror_mode": {
    "name": "ipython",
    "version": 2
   },
   "file_extension": ".py",
   "mimetype": "text/x-python",
   "name": "python",
   "nbconvert_exporter": "python",
   "pygments_lexer": "ipython2",
   "version": "2.7.11"
  }
 },
 "nbformat": 4,
 "nbformat_minor": 0
}
